{
 "cells": [
  {
   "cell_type": "code",
   "execution_count": 48,
   "id": "0ee9b2e5",
   "metadata": {},
   "outputs": [
    {
     "name": "stdout",
     "output_type": "stream",
     "text": [
      "Player 1 loose!\n",
      "Total on dice was = 8\n"
     ]
    }
   ],
   "source": [
    "import random\n",
    "#Dice = [1, 2, 3, 4, 5, 6]\n",
    "\n",
    "dice = random.randint(1, 6) + random.randint(1, 6)  \n",
    "#print(dice)\n",
    "\n",
    "def player1():\n",
    "    choice = input(\"Player 1, is it high or low : \")\n",
    "    if choice.lower() == \"high\":\n",
    "        if dice > 7:\n",
    "            print(\"Player 1 wins!\")\n",
    "        else:\n",
    "            print(\"Player 1 Loose!\")\n",
    "    elif choice.lower() == \"low\":\n",
    "        if dice < 7:\n",
    "            print(\"Player 1 wins!\")\n",
    "        else:\n",
    "            print(\"Player 1 loose!\")\n",
    "\n",
    "player1()\n",
    "print(\"Total on dice was =\", dice)\n",
    "\n"
   ]
  },
  {
   "cell_type": "code",
   "execution_count": null,
   "id": "717cc255",
   "metadata": {},
   "outputs": [],
   "source": []
  }
 ],
 "metadata": {
  "kernelspec": {
   "display_name": "base",
   "language": "python",
   "name": "python3"
  },
  "language_info": {
   "codemirror_mode": {
    "name": "ipython",
    "version": 3
   },
   "file_extension": ".py",
   "mimetype": "text/x-python",
   "name": "python",
   "nbconvert_exporter": "python",
   "pygments_lexer": "ipython3",
   "version": "3.12.7"
  }
 },
 "nbformat": 4,
 "nbformat_minor": 5
}
